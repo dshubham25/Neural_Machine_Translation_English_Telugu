{
 "cells": [
  {
   "cell_type": "markdown",
   "metadata": {
    "colab_type": "text",
    "id": "vAFNV80-dnCb"
   },
   "source": [
    "# Neural Machine Translation\n",
    "\n",
    "Machine translation is a challenging task that traditionally involves large statistical models developed using highly sophisticated linguistic knowledge.\n",
    "\n",
    "Neural machine translation is the use of deep neural networks for the problem of machine translation.\n",
    "\n",
    "In this Notebook, you will discover how to develop a neural machine translation system for translating English phrases to Telugu.\n",
    "\n",
    "Steps:\n",
    "\n",
    "* Prepare Data\n",
    "* Preprocess Data\n",
    "* Text to Sequence Conversion\n",
    "* Build Encoder-Decoder Model\n",
    "* Train Model\n",
    "* Translate English to Telugu"
   ]
  },
  {
   "cell_type": "markdown",
   "metadata": {
    "colab_type": "text",
    "id": "UiN_tPYIgx1E"
   },
   "source": [
    "In this Notebook, The [English-Telugu](https://github.com/scionoftech/English_Telugu_Bilingual-Sentence-Pairs) Bilingual-Sentence-Pairs data is used for Neural Machine Translation."
   ]
  },
  {
   "cell_type": "code",
   "execution_count": 0,
   "metadata": {
    "colab": {},
    "colab_type": "code",
    "id": "QdzTBuL2adyL"
   },
   "outputs": [],
   "source": [
    "project_path = \"machine_translation/\""
   ]
  },
  {
   "cell_type": "code",
   "execution_count": 0,
   "metadata": {
    "colab": {
     "base_uri": "https://localhost:8080/",
     "height": 63
    },
    "colab_type": "code",
    "id": "Rgvg66I4apty",
    "outputId": "e23d679a-3f70-4f29-e7b2-2d02a84ced67"
   },
   "outputs": [
    {
     "data": {
      "text/html": [
       "<p style=\"color: red;\">\n",
       "The default version of TensorFlow in Colab will soon switch to TensorFlow 2.x.<br>\n",
       "We recommend you <a href=\"https://www.tensorflow.org/guide/migrate\" target=\"_blank\">upgrade</a> now \n",
       "or ensure your notebook will continue to use TensorFlow 1.x via the <code>%tensorflow_version 1.x</code> magic:\n",
       "<a href=\"https://colab.research.google.com/notebooks/tensorflow_version.ipynb\" target=\"_blank\">more info</a>.</p>\n"
      ],
      "text/plain": [
       "<IPython.core.display.HTML object>"
      ]
     },
     "metadata": {
      "tags": []
     },
     "output_type": "display_data"
    }
   ],
   "source": [
    "import pandas as pd\n",
    "import string\n",
    "from string import digits\n",
    "import re\n",
    "import os\n",
    "from numpy import array, argmax, random, take\n",
    "from sklearn.model_selection import train_test_split\n",
    "import pandas as pd\n",
    "from tensorflow.keras.models import Sequential\n",
    "from tensorflow.keras.layers import Dense, LSTM, Embedding, RepeatVector,TimeDistributed\n",
    "from tensorflow.keras.preprocessing.text import Tokenizer\n",
    "from tensorflow.keras.preprocessing.sequence import pad_sequences\n",
    "from tensorflow.keras.callbacks import ModelCheckpoint,EarlyStopping,ReduceLROnPlateau\n",
    "from tensorflow.keras.models import load_model\n",
    "from tensorflow.keras import optimizers\n",
    "import matplotlib.pyplot as plt\n",
    "%matplotlib inline\n",
    "# pd.set_option('display.max_colwidth', 200)"
   ]
  },
  {
   "cell_type": "markdown",
   "metadata": {
    "colab_type": "text",
    "id": "B5MPqERSf-J-"
   },
   "source": [
    "## Load Data"
   ]
  },
  {
   "cell_type": "code",
   "execution_count": 0,
   "metadata": {
    "colab": {},
    "colab_type": "code",
    "id": "AmIFn4qU198D"
   },
   "outputs": [],
   "source": [
    "# read phrases from english_telugu_data.txt file\n",
    "english_sentances = []\n",
    "telugu_sentances = []\n",
    "with open(project_path+\"english_telugu_data.txt\", mode='rt', encoding='utf-8') as fp:\n",
    "    for line in fp.readlines():\n",
    "        eng_tel = line.split(\"++++$++++\")\n",
    "        english_sentances.append(eng_tel[0])\n",
    "        telugu_sentances.append(eng_tel[1])"
   ]
  },
  {
   "cell_type": "code",
   "execution_count": 0,
   "metadata": {
    "colab": {},
    "colab_type": "code",
    "id": "UqsyqG-j2nOz"
   },
   "outputs": [],
   "source": [
    "data = pd.DataFrame({\"english_sentances\":english_sentances,\"telugu_sentances\":telugu_sentances})"
   ]
  },
  {
   "cell_type": "code",
   "execution_count": 0,
   "metadata": {
    "colab": {
     "base_uri": "https://localhost:8080/",
     "height": 204
    },
    "colab_type": "code",
    "id": "m-Psopq3bHMh",
    "outputId": "746a5d39-ca03-4269-8383-83c76dbf1b7b"
   },
   "outputs": [
    {
     "data": {
      "text/html": [
       "<div>\n",
       "<style scoped>\n",
       "    .dataframe tbody tr th:only-of-type {\n",
       "        vertical-align: middle;\n",
       "    }\n",
       "\n",
       "    .dataframe tbody tr th {\n",
       "        vertical-align: top;\n",
       "    }\n",
       "\n",
       "    .dataframe thead th {\n",
       "        text-align: right;\n",
       "    }\n",
       "</style>\n",
       "<table border=\"1\" class=\"dataframe\">\n",
       "  <thead>\n",
       "    <tr style=\"text-align: right;\">\n",
       "      <th></th>\n",
       "      <th>english_sentances</th>\n",
       "      <th>telugu_sentances</th>\n",
       "    </tr>\n",
       "  </thead>\n",
       "  <tbody>\n",
       "    <tr>\n",
       "      <th>0</th>\n",
       "      <td>His legs are long.</td>\n",
       "      <td>అతని కాళ్ళు పొడవుగా ఉన్నాయి.\\n</td>\n",
       "    </tr>\n",
       "    <tr>\n",
       "      <th>1</th>\n",
       "      <td>Who taught Tom how to speak French?</td>\n",
       "      <td>టామ్ ఫ్రెంచ్ మాట్లాడటం ఎలా నేర్పించారు?\\n</td>\n",
       "    </tr>\n",
       "    <tr>\n",
       "      <th>2</th>\n",
       "      <td>I swim in the sea every day.</td>\n",
       "      <td>నేను ప్రతి రోజు సముద్రంలో ఈత కొడతాను.\\n</td>\n",
       "    </tr>\n",
       "    <tr>\n",
       "      <th>3</th>\n",
       "      <td>Tom popped into the supermarket on his way hom...</td>\n",
       "      <td>టామ్ కొంచెం పాలు కొనడానికి ఇంటికి వెళ్ళేటప్పుడ...</td>\n",
       "    </tr>\n",
       "    <tr>\n",
       "      <th>4</th>\n",
       "      <td>Smoke filled the room.</td>\n",
       "      <td>పొగ గదిని నింపింది.\\n</td>\n",
       "    </tr>\n",
       "  </tbody>\n",
       "</table>\n",
       "</div>"
      ],
      "text/plain": [
       "                                   english_sentances                                   telugu_sentances\n",
       "0                                 His legs are long.                     అతని కాళ్ళు పొడవుగా ఉన్నాయి.\\n\n",
       "1                Who taught Tom how to speak French?          టామ్ ఫ్రెంచ్ మాట్లాడటం ఎలా నేర్పించారు?\\n\n",
       "2                       I swim in the sea every day.            నేను ప్రతి రోజు సముద్రంలో ఈత కొడతాను.\\n\n",
       "3  Tom popped into the supermarket on his way hom...  టామ్ కొంచెం పాలు కొనడానికి ఇంటికి వెళ్ళేటప్పుడ...\n",
       "4                             Smoke filled the room.                              పొగ గదిని నింపింది.\\n"
      ]
     },
     "execution_count": 6,
     "metadata": {
      "tags": []
     },
     "output_type": "execute_result"
    }
   ],
   "source": [
    "data.head()"
   ]
  },
  {
   "cell_type": "code",
   "execution_count": 0,
   "metadata": {
    "colab": {
     "base_uri": "https://localhost:8080/",
     "height": 34
    },
    "colab_type": "code",
    "id": "_91YZHuCbI9J",
    "outputId": "86413624-50e1-4dbe-ba9d-30b46d33506e"
   },
   "outputs": [
    {
     "data": {
      "text/plain": [
       "(155798, 2)"
      ]
     },
     "execution_count": 7,
     "metadata": {
      "tags": []
     },
     "output_type": "execute_result"
    }
   ],
   "source": [
    "data.shape"
   ]
  },
  {
   "cell_type": "code",
   "execution_count": 0,
   "metadata": {
    "colab": {},
    "colab_type": "code",
    "id": "vUlIOezBKFkO"
   },
   "outputs": [],
   "source": [
    "# Let's take 70000 phrases from data\n",
    "data = data.iloc[:70000,:]"
   ]
  },
  {
   "cell_type": "markdown",
   "metadata": {
    "colab_type": "text",
    "id": "AdriXixpbjuD"
   },
   "source": [
    "## Text Pre-Processing"
   ]
  },
  {
   "cell_type": "markdown",
   "metadata": {
    "colab_type": "text",
    "id": "EtHlGIsPibR5"
   },
   "source": [
    "#### Text Cleaning"
   ]
  },
  {
   "cell_type": "code",
   "execution_count": 0,
   "metadata": {
    "colab": {},
    "colab_type": "code",
    "id": "gOyqb9FKcjbc"
   },
   "outputs": [],
   "source": [
    "contraction_mapping = {\"ain't\": \"is not\", \"aren't\": \"are not\",\"can't\": \"cannot\", \"'cause\": \"because\", \"could've\": \"could have\", \"couldn't\": \"could not\",\n",
    "                           \"didn't\": \"did not\",  \"doesn't\": \"does not\", \"don't\": \"do not\", \"hadn't\": \"had not\", \"hasn't\": \"has not\", \"haven't\": \"have not\",\n",
    "                           \"he'd\": \"he would\",\"he'll\": \"he will\", \"he's\": \"he is\", \"how'd\": \"how did\", \"how'd'y\": \"how do you\", \"how'll\": \"how will\", \"how's\": \"how is\",\n",
    "                           \"I'd\": \"I would\", \"I'd've\": \"I would have\", \"I'll\": \"I will\", \"I'll've\": \"I will have\",\"I'm\": \"I am\", \"I've\": \"I have\", \"i'd\": \"i would\",\n",
    "                           \"i'd've\": \"i would have\", \"i'll\": \"i will\",  \"i'll've\": \"i will have\",\"i'm\": \"i am\", \"i've\": \"i have\", \"isn't\": \"is not\", \"it'd\": \"it would\",\n",
    "                           \"it'd've\": \"it would have\", \"it'll\": \"it will\", \"it'll've\": \"it will have\",\"it's\": \"it is\", \"let's\": \"let us\", \"ma'am\": \"madam\",\n",
    "                           \"mayn't\": \"may not\", \"might've\": \"might have\",\"mightn't\": \"might not\",\"mightn't've\": \"might not have\", \"must've\": \"must have\",\n",
    "                           \"mustn't\": \"must not\", \"mustn't've\": \"must not have\", \"needn't\": \"need not\", \"needn't've\": \"need not have\",\"o'clock\": \"of the clock\",\n",
    "                           \"oughtn't\": \"ought not\", \"oughtn't've\": \"ought not have\", \"shan't\": \"shall not\", \"sha'n't\": \"shall not\", \"shan't've\": \"shall not have\",\n",
    "                           \"she'd\": \"she would\", \"she'd've\": \"she would have\", \"she'll\": \"she will\", \"she'll've\": \"she will have\", \"she's\": \"she is\",\n",
    "                           \"should've\": \"should have\", \"shouldn't\": \"should not\", \"shouldn't've\": \"should not have\", \"so've\": \"so have\",\"so's\": \"so as\",\n",
    "                           \"this's\": \"this is\",\"that'd\": \"that would\", \"that'd've\": \"that would have\", \"that's\": \"that is\", \"there'd\": \"there would\",\n",
    "                           \"there'd've\": \"there would have\", \"there's\": \"there is\", \"here's\": \"here is\",\"they'd\": \"they would\", \"they'd've\": \"they would have\",\n",
    "                           \"they'll\": \"they will\", \"they'll've\": \"they will have\", \"they're\": \"they are\", \"they've\": \"they have\", \"to've\": \"to have\",\n",
    "                           \"wasn't\": \"was not\", \"we'd\": \"we would\", \"we'd've\": \"we would have\", \"we'll\": \"we will\", \"we'll've\": \"we will have\", \"we're\": \"we are\",\n",
    "                           \"we've\": \"we have\", \"weren't\": \"were not\", \"what'll\": \"what will\", \"what'll've\": \"what will have\", \"what're\": \"what are\",\n",
    "                           \"what's\": \"what is\", \"what've\": \"what have\", \"when's\": \"when is\", \"when've\": \"when have\", \"where'd\": \"where did\", \"where's\": \"where is\",\n",
    "                           \"where've\": \"where have\", \"who'll\": \"who will\", \"who'll've\": \"who will have\", \"who's\": \"who is\", \"who've\": \"who have\",\n",
    "                           \"why's\": \"why is\", \"why've\": \"why have\", \"will've\": \"will have\", \"won't\": \"will not\", \"won't've\": \"will not have\",\n",
    "                           \"would've\": \"would have\", \"wouldn't\": \"would not\", \"wouldn't've\": \"would not have\", \"y'all\": \"you all\",\n",
    "                           \"y'all'd\": \"you all would\",\"y'all'd've\": \"you all would have\",\"y'all're\": \"you all are\",\"y'all've\": \"you all have\",\n",
    "                           \"you'd\": \"you would\", \"you'd've\": \"you would have\", \"you'll\": \"you will\", \"you'll've\": \"you will have\",\n",
    "                           \"you're\": \"you are\", \"you've\": \"you have\"}"
   ]
  },
  {
   "cell_type": "code",
   "execution_count": 0,
   "metadata": {
    "colab": {},
    "colab_type": "code",
    "id": "i3xbjiJtbQeK"
   },
   "outputs": [],
   "source": [
    "# clean english sentances\n",
    "def clean_eng(text):\n",
    "    # Lowercase all characters\n",
    "    text = text.lower()\n",
    "    # map contractions\n",
    "    text = ' '.join([contraction_mapping[w] if w in contraction_mapping else w for w in text.split(\" \")])\n",
    "    # Remove quotes\n",
    "    text = re.sub(\"'\", '', text)\n",
    "    # Remove all the special characters\n",
    "    exclude = set(string.punctuation) # Set of all special characters\n",
    "    text = ''.join([c for c in text if c not in exclude])\n",
    "    # Remove all numbers from text\n",
    "    remove_digits = str.maketrans('', '', digits)\n",
    "    text = text.translate(remove_digits)\n",
    "    # Remove extra spaces\n",
    "    text= text.strip()\n",
    "\n",
    "    return text"
   ]
  },
  {
   "cell_type": "code",
   "execution_count": 0,
   "metadata": {
    "colab": {},
    "colab_type": "code",
    "id": "Fbhk3FuMe-3J"
   },
   "outputs": [],
   "source": [
    "# clean telugu sentances\n",
    "def clean_tel(text):\n",
    "    # Lowercase all characters\n",
    "    text = text.lower()\n",
    "    # Remove quotes\n",
    "    text = re.sub(\"'\", '', text)\n",
    "    # Remove all the special characters\n",
    "    exclude = set(string.punctuation) # Set of all special characters\n",
    "    text = ''.join([c for c in text if c not in exclude])\n",
    "    # Remove all numbers from text\n",
    "    remove_digits = str.maketrans('', '', digits)\n",
    "    text = text.translate(remove_digits)\n",
    "    # Remove Telugu numbers from text\n",
    "    text = re.sub(\"[౦౧౨౩౪౫౬౭౮౯]\", '', text)\n",
    "    # Remove extra spaces\n",
    "    text= text.strip()\n",
    "\n",
    "    return text"
   ]
  },
  {
   "cell_type": "code",
   "execution_count": 0,
   "metadata": {
    "colab": {},
    "colab_type": "code",
    "id": "LLj0iaLEheFS"
   },
   "outputs": [],
   "source": [
    "# clean text\n",
    "data_df = data.copy()\n",
    "data_df[\"english_sentances\"] = data_df[\"english_sentances\"] .apply(lambda x: clean_eng(x))\n",
    "data_df[\"telugu_sentances\"] = data_df[\"telugu_sentances\"] .apply(lambda x: clean_tel(x))"
   ]
  },
  {
   "cell_type": "code",
   "execution_count": 0,
   "metadata": {
    "colab": {
     "base_uri": "https://localhost:8080/",
     "height": 204
    },
    "colab_type": "code",
    "id": "VSujFtrD30j0",
    "outputId": "f336e91a-5462-4a69-a981-2b63b996ae28"
   },
   "outputs": [
    {
     "data": {
      "text/html": [
       "<div>\n",
       "<style scoped>\n",
       "    .dataframe tbody tr th:only-of-type {\n",
       "        vertical-align: middle;\n",
       "    }\n",
       "\n",
       "    .dataframe tbody tr th {\n",
       "        vertical-align: top;\n",
       "    }\n",
       "\n",
       "    .dataframe thead th {\n",
       "        text-align: right;\n",
       "    }\n",
       "</style>\n",
       "<table border=\"1\" class=\"dataframe\">\n",
       "  <thead>\n",
       "    <tr style=\"text-align: right;\">\n",
       "      <th></th>\n",
       "      <th>english_sentances</th>\n",
       "      <th>telugu_sentances</th>\n",
       "    </tr>\n",
       "  </thead>\n",
       "  <tbody>\n",
       "    <tr>\n",
       "      <th>0</th>\n",
       "      <td>his legs are long</td>\n",
       "      <td>అతని కాళ్ళు పొడవుగా ఉన్నాయి</td>\n",
       "    </tr>\n",
       "    <tr>\n",
       "      <th>1</th>\n",
       "      <td>who taught tom how to speak french</td>\n",
       "      <td>టామ్ ఫ్రెంచ్ మాట్లాడటం ఎలా నేర్పించారు</td>\n",
       "    </tr>\n",
       "    <tr>\n",
       "      <th>2</th>\n",
       "      <td>i swim in the sea every day</td>\n",
       "      <td>నేను ప్రతి రోజు సముద్రంలో ఈత కొడతాను</td>\n",
       "    </tr>\n",
       "    <tr>\n",
       "      <th>3</th>\n",
       "      <td>tom popped into the supermarket on his way hom...</td>\n",
       "      <td>టామ్ కొంచెం పాలు కొనడానికి ఇంటికి వెళ్ళేటప్పుడ...</td>\n",
       "    </tr>\n",
       "    <tr>\n",
       "      <th>4</th>\n",
       "      <td>smoke filled the room</td>\n",
       "      <td>పొగ గదిని నింపింది</td>\n",
       "    </tr>\n",
       "  </tbody>\n",
       "</table>\n",
       "</div>"
      ],
      "text/plain": [
       "                                   english_sentances                                   telugu_sentances\n",
       "0                                  his legs are long                        అతని కాళ్ళు పొడవుగా ఉన్నాయి\n",
       "1                 who taught tom how to speak french             టామ్ ఫ్రెంచ్ మాట్లాడటం ఎలా నేర్పించారు\n",
       "2                        i swim in the sea every day               నేను ప్రతి రోజు సముద్రంలో ఈత కొడతాను\n",
       "3  tom popped into the supermarket on his way hom...  టామ్ కొంచెం పాలు కొనడానికి ఇంటికి వెళ్ళేటప్పుడ...\n",
       "4                              smoke filled the room                                 పొగ గదిని నింపింది"
      ]
     },
     "execution_count": 14,
     "metadata": {
      "tags": []
     },
     "output_type": "execute_result"
    }
   ],
   "source": [
    "data_df.head()"
   ]
  },
  {
   "cell_type": "markdown",
   "metadata": {
    "colab_type": "text",
    "id": "rQOHFc7LlCYi"
   },
   "source": [
    "#### Text to Sequence Conversion"
   ]
  },
  {
   "cell_type": "code",
   "execution_count": 0,
   "metadata": {
    "colab": {
     "base_uri": "https://localhost:8080/",
     "height": 281
    },
    "colab_type": "code",
    "id": "qce7tmBPk4Pa",
    "outputId": "c1a77f8c-e94e-4035-e336-279b66b54b2a"
   },
   "outputs": [
    {
     "data": {
      "image/png": "[encoded data removed]",
      "text/plain": [
       "<Figure size 432x288 with 2 Axes>"
      ]
     },
     "metadata": {
      "tags": []
     },
     "output_type": "display_data"
    }
   ],
   "source": [
    "# empty lists\n",
    "eng_l = []\n",
    "tel_l = []\n",
    "\n",
    "# populate the lists with sentence lengths\n",
    "for i in data_df[\"english_sentances\"].values:\n",
    "      eng_l.append(len(i.split()))\n",
    "\n",
    "for i in data_df[\"telugu_sentances\"].values:\n",
    "      tel_l.append(len(i.split()))\n",
    "\n",
    "length_df = pd.DataFrame({'eng':eng_l, 'tel':tel_l})\n",
    "\n",
    "length_df.hist(bins = 30)\n",
    "plt.show()"
   ]
  },
  {
   "cell_type": "markdown",
   "metadata": {
    "colab_type": "text",
    "id": "hbCziy1PmCj6"
   },
   "source": [
    "Quite intuitive – the maximum length of the Telugu sentences is 26 and that of the English phrases is 43."
   ]
  },
  {
   "cell_type": "markdown",
   "metadata": {
    "colab_type": "text",
    "id": "NbNcHXYZmdjb"
   },
   "source": [
    "Next, vectorize our text data by using Keras’s Tokenizer() class. It will turn our sentences into sequences of integers. We can then pad those sequences with zeros to make all the sequences of the same length.\n",
    "\n",
    "Note that we will prepare tokenizers for both the Telugu and English sentences:"
   ]
  },
  {
   "cell_type": "code",
   "execution_count": 0,
   "metadata": {
    "colab": {},
    "colab_type": "code",
    "id": "i7m_56NwlNqK"
   },
   "outputs": [],
   "source": [
    "# function to build a tokenizer\n",
    "def tokenization(lines):\n",
    "    tokenizer = Tokenizer()\n",
    "    tokenizer.fit_on_texts(lines)\n",
    "    return tokenizer"
   ]
  },
  {
   "cell_type": "code",
   "execution_count": 0,
   "metadata": {
    "colab": {
     "base_uri": "https://localhost:8080/",
     "height": 34
    },
    "colab_type": "code",
    "id": "-g_5D6QzlxBZ",
    "outputId": "ad94565a-c7eb-4c5c-f539-0b1710557bc9"
   },
   "outputs": [
    {
     "name": "stdout",
     "output_type": "stream",
     "text": [
      "English Vocabulary Size: 10315\n"
     ]
    }
   ],
   "source": [
    "# prepare english tokenizer\n",
    "eng_tokenizer = tokenization(data_df[\"english_sentances\"])\n",
    "eng_vocab_size = len(eng_tokenizer.word_index) + 1\n",
    "\n",
    "eng_length = 43\n",
    "print('English Vocabulary Size: %d' % eng_vocab_size)"
   ]
  },
  {
   "cell_type": "code",
   "execution_count": 0,
   "metadata": {
    "colab": {
     "base_uri": "https://localhost:8080/",
     "height": 34
    },
    "colab_type": "code",
    "id": "_E5lmeA1lzJR",
    "outputId": "97b84617-d205-40e6-fc1d-85de0c64a67c"
   },
   "outputs": [
    {
     "name": "stdout",
     "output_type": "stream",
     "text": [
      "Telugu Vocabulary Size: 26680\n"
     ]
    }
   ],
   "source": [
    "# prepare Telugu tokenizer\n",
    "tel_tokenizer = tokenization(data_df[\"telugu_sentances\"])\n",
    "tel_vocab_size = len(tel_tokenizer.word_index) + 1\n",
    "\n",
    "tel_length = 26\n",
    "print('Telugu Vocabulary Size: %d' % tel_vocab_size)"
   ]
  },
  {
   "cell_type": "markdown",
   "metadata": {
    "colab_type": "text",
    "id": "H3QvWcFUnRzf"
   },
   "source": [
    "The below code block contains a function to prepare the sequences. It will also perform sequence padding to a maximum sentence length as mentioned above."
   ]
  },
  {
   "cell_type": "code",
   "execution_count": 0,
   "metadata": {
    "colab": {},
    "colab_type": "code",
    "id": "bVQURgPbnMmn"
   },
   "outputs": [],
   "source": [
    "# encode and pad sequences\n",
    "def encode_sequences(tokenizer, length, lines):\n",
    "    # integer encode sequences\n",
    "    seq = tokenizer.texts_to_sequences(lines)\n",
    "    # pad sequences with 0 values\n",
    "    seq = pad_sequences(seq, maxlen=length, padding='post')\n",
    "    return seq"
   ]
  },
  {
   "cell_type": "markdown",
   "metadata": {
    "colab_type": "text",
    "id": "n2U75Z67omA4"
   },
   "source": [
    "We will now split the data into train and test set for model training and evaluation, respectively."
   ]
  },
  {
   "cell_type": "code",
   "execution_count": 0,
   "metadata": {
    "colab": {},
    "colab_type": "code",
    "id": "RhvoB18wnbxQ"
   },
   "outputs": [],
   "source": [
    "# split data into train and test set\n",
    "train, test = train_test_split(data_df, test_size=0.2, random_state = 12)"
   ]
  },
  {
   "cell_type": "markdown",
   "metadata": {
    "colab_type": "text",
    "id": "cnIOCt8dom0u"
   },
   "source": [
    "It’s time to encode the sentences. We will encode **English sentences as the input sequences** and **Telugu sentences as the target sequences**. This has to be done for both the train and test datasets."
   ]
  },
  {
   "cell_type": "code",
   "execution_count": 0,
   "metadata": {
    "colab": {},
    "colab_type": "code",
    "id": "DgFTl5FoozS9"
   },
   "outputs": [],
   "source": [
    "# prepare training data\n",
    "trainX = encode_sequences(eng_tokenizer, eng_length, train[\"english_sentances\"])\n",
    "trainY = encode_sequences(tel_tokenizer, tel_length, train[\"telugu_sentances\"])\n",
    "\n",
    "# prepare validation data\n",
    "testX = encode_sequences(eng_tokenizer, eng_length, test[\"english_sentances\"])\n",
    "testY = encode_sequences(tel_tokenizer, tel_length, test[\"telugu_sentances\"])"
   ]
  },
  {
   "cell_type": "code",
   "execution_count": 0,
   "metadata": {
    "colab": {
     "base_uri": "https://localhost:8080/",
     "height": 34
    },
    "colab_type": "code",
    "id": "_14q520fp5j2",
    "outputId": "c788e27a-92b4-4c0e-89a1-3fec620497ca"
   },
   "outputs": [
    {
     "data": {
      "text/plain": [
       "((56000, 43), (56000, 26), (14000, 43), (14000, 26))"
      ]
     },
     "execution_count": 22,
     "metadata": {
      "tags": []
     },
     "output_type": "execute_result"
    }
   ],
   "source": [
    "trainX.shape,trainY.shape,testX.shape,testY.shape"
   ]
  },
  {
   "cell_type": "code",
   "execution_count": 0,
   "metadata": {
    "colab": {},
    "colab_type": "code",
    "id": "1osUoSnc_F01"
   },
   "outputs": [],
   "source": [
    "# data generator, intended to be used in a call to model.fit_generator()\n",
    "# def data_generator(eng_tokenizer,tel_tokenizer, eng_length,tel_length, eng_data,tel_data):\n",
    "#     # loop for each sentance\n",
    "#     while 1:\n",
    "#         for eng_sentance,tel_sentance in zip(eng_data,tel_data):\n",
    "#             # integer encode sequences\n",
    "#             eng_seq = eng_tokenizer.texts_to_sequences(eng_sentance)\n",
    "#             tel_seq = tel_tokenizer.texts_to_sequences(tel_sentance)\n",
    "#             # pad sequences with 0 values\n",
    "#             eng_seq = pad_sequences(eng_seq, maxlen=eng_length, padding='post')\n",
    "#             tel_seq = pad_sequences(tel_seq, maxlen=tel_length, padding='post')\n",
    "#             yield eng_seq,tel_seq"
   ]
  },
  {
   "cell_type": "markdown",
   "metadata": {},
   "source": [
    "## Build Model"
   ]
  },
  {
   "cell_type": "markdown",
   "metadata": {
    "colab_type": "text",
    "id": "Z1PofjbMr-h3"
   },
   "source": [
    "We’ll start off by defining our Seq2Seq model architecture:\n",
    "\n",
    "For the encoder, we will use an embedding layer and an LSTM layer\n",
    "For the decoder, we will use another LSTM layer followed by a dense layer"
   ]
  },
  {
   "cell_type": "markdown",
   "metadata": {},
   "source": [
    "![encoder_decoder.png](encoder_decoder.png)"
   ]
  },
  {
   "cell_type": "code",
   "execution_count": 0,
   "metadata": {
    "colab": {},
    "colab_type": "code",
    "id": "3r-kEDnDpS0B"
   },
   "outputs": [],
   "source": [
    "# build NMT model\n",
    "def define_model(in_vocab,out_vocab, in_timesteps,out_timesteps,units):\n",
    "    model = Sequential()\n",
    "    model.add(Embedding(in_vocab, units, input_length=in_timesteps, mask_zero=True))\n",
    "    model.add(LSTM(units))\n",
    "    model.add(RepeatVector(out_timesteps))\n",
    "    model.add(LSTM(units, return_sequences=True))\n",
    "    model.add(TimeDistributed(Dense(out_vocab, activation='softmax')))\n",
    "    return model"
   ]
  },
  {
   "cell_type": "code",
   "execution_count": 0,
   "metadata": {
    "colab": {
     "base_uri": "https://localhost:8080/",
     "height": 496
    },
    "colab_type": "code",
    "id": "uail-QTMpWAA",
    "outputId": "ff860fb4-6291-48ff-8ad6-ef881b4b3dc6"
   },
   "outputs": [
    {
     "name": "stdout",
     "output_type": "stream",
     "text": [
      "WARNING:tensorflow:From /usr/local/lib/python3.6/dist-packages/tensorflow_core/python/keras/initializers.py:119: calling RandomUniform.__init__ (from tensorflow.python.ops.init_ops) with dtype is deprecated and will be removed in a future version.\n",
      "Instructions for updating:\n",
      "Call initializer instance with the dtype argument instead of passing it to the constructor\n",
      "WARNING:tensorflow:From /usr/local/lib/python3.6/dist-packages/tensorflow_core/python/ops/resource_variable_ops.py:1630: calling BaseResourceVariable.__init__ (from tensorflow.python.ops.resource_variable_ops) with constraint is deprecated and will be removed in a future version.\n",
      "Instructions for updating:\n",
      "If using Keras pass *_constraint arguments to layers.\n",
      "WARNING:tensorflow:From /usr/local/lib/python3.6/dist-packages/tensorflow_core/python/keras/backend.py:3994: where (from tensorflow.python.ops.array_ops) is deprecated and will be removed in a future version.\n",
      "Instructions for updating:\n",
      "Use tf.where in 2.0, which has the same broadcast rule as np.where\n",
      "Model: \"sequential\"\n",
      "_________________________________________________________________\n",
      "Layer (type)                 Output Shape              Param #   \n",
      "=================================================================\n",
      "embedding (Embedding)        (None, 43, 512)           5281280   \n",
      "_________________________________________________________________\n",
      "lstm (LSTM)                  (None, 512)               2099200   \n",
      "_________________________________________________________________\n",
      "repeat_vector (RepeatVector) (None, 26, 512)           0         \n",
      "_________________________________________________________________\n",
      "lstm_1 (LSTM)                (None, 26, 512)           2099200   \n",
      "_________________________________________________________________\n",
      "time_distributed (TimeDistri (None, 26, 26680)         13686840  \n",
      "=================================================================\n",
      "Total params: 23,166,520\n",
      "Trainable params: 23,166,520\n",
      "Non-trainable params: 0\n",
      "_________________________________________________________________\n"
     ]
    }
   ],
   "source": [
    "# model compilation\n",
    "model = define_model(eng_vocab_size,tel_vocab_size,eng_length,tel_length, 512)\n",
    "model.summary()"
   ]
  },
  {
   "cell_type": "markdown",
   "metadata": {
    "colab_type": "text",
    "id": "91Fhz_lyr7ro"
   },
   "source": [
    "We are using the RMSprop optimizer in this model as it’s usually a good choice when working with recurrent neural networks."
   ]
  },
  {
   "cell_type": "code",
   "execution_count": 0,
   "metadata": {
    "colab": {},
    "colab_type": "code",
    "id": "R4BrOMpZpXmx"
   },
   "outputs": [],
   "source": [
    "rms = optimizers.RMSprop()\n",
    "model.compile(optimizer=rms, loss='sparse_categorical_crossentropy')"
   ]
  },
  {
   "cell_type": "markdown",
   "metadata": {
    "colab_type": "text",
    "id": "EKgbPZC4ruWQ"
   },
   "source": [
    "Please note that we have used ‘sparse_categorical_crossentropy‘ as the loss function. This is because the function allows us to use the target sequence as is, instead of the one-hot encoded format. **One-hot encoding the target sequences using such a huge vocabulary might consume our system’s entire memory**.\n",
    "\n",
    "We are all set to start training our model!\n",
    "\n",
    "**We will train it for 50 epochs and with a batch size of 128 with a validation split of 20%.** 80% of the data will be used for training the model and the rest for evaluating it. You may change and play around with these hyperparameters.\n",
    "\n",
    "We will also use the **ModelCheckpoint()** function to save the model with the lowest validation loss. I personally prefer this method over early stopping."
   ]
  },
  {
   "cell_type": "code",
   "execution_count": 0,
   "metadata": {
    "colab": {},
    "colab_type": "code",
    "id": "E_pneFkFpfvp"
   },
   "outputs": [],
   "source": [
    "# Defining a helper function to save the model after each epoch \n",
    "# in which the loss decreases \n",
    "filepath = project_path+'NMT_model.h5'\n",
    "checkpoint = ModelCheckpoint(filepath, monitor='val_loss', verbose=1, save_best_only=True, mode='min')\n",
    "# Defining a helper function to reduce the learning rate each time \n",
    "# the learning plateaus \n",
    "reduce_alpha = ReduceLROnPlateau(monitor ='val_loss', factor = 0.2, patience = 1, min_lr = 0.001)\n",
    "# stop traning if there increase in loss\n",
    "# es = EarlyStopping(monitor='val_loss', mode='min', verbose=1,patience=2)\n",
    "callbacks = [checkpoint, reduce_alpha] "
   ]
  },
  {
   "cell_type": "code",
   "execution_count": 0,
   "metadata": {
    "colab": {},
    "colab_type": "code",
    "id": "4TyoOKhiFjHM"
   },
   "outputs": [],
   "source": [
    "# train the model\n",
    "# epochs = 30\n",
    "# train_steps = len(train[\"english_sentances\"])\n",
    "# val_steps = len(test[\"english_sentances\"])\n",
    "# create the data generator\n",
    "# prepare training data\n",
    "#train_gen = data_generator(eng_tokenizer,tel_tokenizer, eng_length,tel_length, train[\"english_sentances\"],train[\"telugu_sentances\"])\n",
    "# prepare validation data\n",
    "#test_gen = data_generator(eng_tokenizer,tel_tokenizer, eng_length,tel_length, test[\"english_sentances\"],test[\"telugu_sentances\"])"
   ]
  },
  {
   "cell_type": "code",
   "execution_count": 0,
   "metadata": {
    "colab": {},
    "colab_type": "code",
    "id": "kcdLnDtTBVSl"
   },
   "outputs": [],
   "source": [
    "# model.fit_generator(train_gen, epochs=epochs, steps_per_epoch=train_steps,validation_data=(test_gen),validation_steps=val_steps,callbacks=callbacks, verbose=1)\n",
    "# save model\n",
    "# model.save(project_path+'model_img_cap_pad.h5')"
   ]
  },
  {
   "cell_type": "markdown",
   "metadata": {},
   "source": [
    "## Train Model"
   ]
  },
  {
   "cell_type": "code",
   "execution_count": 0,
   "metadata": {
    "colab": {
     "base_uri": "https://localhost:8080/",
     "height": 1000
    },
    "colab_type": "code",
    "id": "JhtykhnN5xPz",
    "outputId": "0bf2fb7d-2d03-418d-9dcf-0f6e037efbd8"
   },
   "outputs": [
    {
     "name": "stdout",
     "output_type": "stream",
     "text": [
      "Train on 44800 samples, validate on 11200 samples\n",
      "Epoch 1/50\n",
      "44672/44800 [============================>.] - ETA: 0s - loss: 1.4487\n",
      "Epoch 00001: val_loss improved from inf to 1.24224, saving model to /content/drive/My Drive/DLCP/openwork/machine_translation/NMT_model.h5\n",
      "44800/44800 [==============================] - 79s 2ms/sample - loss: 1.4480 - val_loss: 1.2422\n",
      "Epoch 2/50\n",
      "44672/44800 [============================>.] - ETA: 0s - loss: 1.1688\n",
      "Epoch 00002: val_loss improved from 1.24224 to 1.13308, saving model to /content/drive/My Drive/DLCP/openwork/machine_translation/NMT_model.h5\n",
      "44800/44800 [==============================] - 77s 2ms/sample - loss: 1.1686 - val_loss: 1.1331\n",
      "Epoch 3/50\n",
      "44672/44800 [============================>.] - ETA: 0s - loss: 1.0540\n",
      "Epoch 00003: val_loss improved from 1.13308 to 1.04173, saving model to /content/drive/My Drive/DLCP/openwork/machine_translation/NMT_model.h5\n",
      "44800/44800 [==============================] - 77s 2ms/sample - loss: 1.0541 - val_loss: 1.0417\n",
      "Epoch 4/50\n",
      "44672/44800 [============================>.] - ETA: 0s - loss: 0.9569\n",
      "Epoch 00004: val_loss improved from 1.04173 to 0.98506, saving model to /content/drive/My Drive/DLCP/openwork/machine_translation/NMT_model.h5\n",
      "44800/44800 [==============================] - 77s 2ms/sample - loss: 0.9569 - val_loss: 0.9851\n",
      "Epoch 5/50\n",
      "44672/44800 [============================>.] - ETA: 0s - loss: 0.8731\n",
      "Epoch 00005: val_loss improved from 0.98506 to 0.92367, saving model to /content/drive/My Drive/DLCP/openwork/machine_translation/NMT_model.h5\n",
      "44800/44800 [==============================] - 77s 2ms/sample - loss: 0.8731 - val_loss: 0.9237\n",
      "Epoch 6/50\n",
      "44672/44800 [============================>.] - ETA: 0s - loss: 0.8046\n",
      "Epoch 00006: val_loss improved from 0.92367 to 0.88006, saving model to /content/drive/My Drive/DLCP/openwork/machine_translation/NMT_model.h5\n",
      "44800/44800 [==============================] - 77s 2ms/sample - loss: 0.8047 - val_loss: 0.8801\n",
      "Epoch 7/50\n",
      "44672/44800 [============================>.] - ETA: 0s - loss: 0.7484\n",
      "Epoch 00007: val_loss improved from 0.88006 to 0.85990, saving model to /content/drive/My Drive/DLCP/openwork/machine_translation/NMT_model.h5\n",
      "44800/44800 [==============================] - 77s 2ms/sample - loss: 0.7482 - val_loss: 0.8599\n",
      "Epoch 8/50\n",
      "44672/44800 [============================>.] - ETA: 0s - loss: 0.7006\n",
      "Epoch 00008: val_loss improved from 0.85990 to 0.83252, saving model to /content/drive/My Drive/DLCP/openwork/machine_translation/NMT_model.h5\n",
      "44800/44800 [==============================] - 77s 2ms/sample - loss: 0.7007 - val_loss: 0.8325\n",
      "Epoch 9/50\n",
      "44672/44800 [============================>.] - ETA: 0s - loss: 0.6572\n",
      "Epoch 00009: val_loss did not improve from 0.83252\n",
      "44800/44800 [==============================] - 76s 2ms/sample - loss: 0.6571 - val_loss: 0.8362\n",
      "Epoch 10/50\n",
      "44672/44800 [============================>.] - ETA: 0s - loss: 0.6190\n",
      "Epoch 00010: val_loss improved from 0.83252 to 0.80703, saving model to /content/drive/My Drive/DLCP/openwork/machine_translation/NMT_model.h5\n",
      "44800/44800 [==============================] - 77s 2ms/sample - loss: 0.6193 - val_loss: 0.8070\n",
      "Epoch 11/50\n",
      "44672/44800 [============================>.] - ETA: 0s - loss: 0.5849\n",
      "Epoch 00011: val_loss improved from 0.80703 to 0.80138, saving model to /content/drive/My Drive/DLCP/openwork/machine_translation/NMT_model.h5\n",
      "44800/44800 [==============================] - 77s 2ms/sample - loss: 0.5850 - val_loss: 0.8014\n",
      "Epoch 12/50\n",
      "44672/44800 [============================>.] - ETA: 0s - loss: 0.5524\n",
      "Epoch 00012: val_loss improved from 0.80138 to 0.80122, saving model to /content/drive/My Drive/DLCP/openwork/machine_translation/NMT_model.h5\n",
      "44800/44800 [==============================] - 76s 2ms/sample - loss: 0.5525 - val_loss: 0.8012\n",
      "Epoch 13/50\n",
      "44672/44800 [============================>.] - ETA: 0s - loss: 0.5225\n",
      "Epoch 00013: val_loss did not improve from 0.80122\n",
      "44800/44800 [==============================] - 75s 2ms/sample - loss: 0.5225 - val_loss: 0.8027\n",
      "Epoch 14/50\n",
      "44672/44800 [============================>.] - ETA: 0s - loss: 0.4905\n",
      "Epoch 00014: val_loss improved from 0.80122 to 0.79633, saving model to /content/drive/My Drive/DLCP/openwork/machine_translation/NMT_model.h5\n",
      "44800/44800 [==============================] - 76s 2ms/sample - loss: 0.4905 - val_loss: 0.7963\n",
      "Epoch 15/50\n",
      "44672/44800 [============================>.] - ETA: 0s - loss: 0.4594\n",
      "Epoch 00015: val_loss did not improve from 0.79633\n",
      "44800/44800 [==============================] - 76s 2ms/sample - loss: 0.4596 - val_loss: 0.7975\n",
      "Epoch 16/50\n",
      "44672/44800 [============================>.] - ETA: 0s - loss: 0.4336\n",
      "Epoch 00016: val_loss did not improve from 0.79633\n",
      "44800/44800 [==============================] - 75s 2ms/sample - loss: 0.4338 - val_loss: 0.7994\n",
      "Epoch 17/50\n",
      "44672/44800 [============================>.] - ETA: 0s - loss: 0.4080\n",
      "Epoch 00017: val_loss did not improve from 0.79633\n",
      "44800/44800 [==============================] - 76s 2ms/sample - loss: 0.4082 - val_loss: 0.8008\n",
      "Epoch 18/50\n",
      "44672/44800 [============================>.] - ETA: 0s - loss: 0.3822\n",
      "Epoch 00018: val_loss did not improve from 0.79633\n",
      "44800/44800 [==============================] - 75s 2ms/sample - loss: 0.3824 - val_loss: 0.8028\n",
      "Epoch 19/50\n",
      "44672/44800 [============================>.] - ETA: 0s - loss: 0.3609\n",
      "Epoch 00019: val_loss did not improve from 0.79633\n",
      "44800/44800 [==============================] - 74s 2ms/sample - loss: 0.3610 - val_loss: 0.8073\n",
      "Epoch 20/50\n",
      "44672/44800 [============================>.] - ETA: 0s - loss: 0.3407\n",
      "Epoch 00020: val_loss did not improve from 0.79633\n",
      "44800/44800 [==============================] - 74s 2ms/sample - loss: 0.3407 - val_loss: 0.8098\n",
      "Epoch 21/50\n",
      "44672/44800 [============================>.] - ETA: 0s - loss: 0.3182\n",
      "Epoch 00021: val_loss did not improve from 0.79633\n",
      "44800/44800 [==============================] - 76s 2ms/sample - loss: 0.3184 - val_loss: 0.8125\n",
      "Epoch 22/50\n",
      "44672/44800 [============================>.] - ETA: 0s - loss: 0.2984\n",
      "Epoch 00022: val_loss did not improve from 0.79633\n",
      "44800/44800 [==============================] - 75s 2ms/sample - loss: 0.2984 - val_loss: 0.8149\n",
      "Epoch 23/50\n",
      "44672/44800 [============================>.] - ETA: 0s - loss: 0.2807\n",
      "Epoch 00023: val_loss did not improve from 0.79633\n",
      "44800/44800 [==============================] - 75s 2ms/sample - loss: 0.2810 - val_loss: 0.8206\n",
      "Epoch 24/50\n",
      "44672/44800 [============================>.] - ETA: 0s - loss: 0.2643\n",
      "Epoch 00024: val_loss did not improve from 0.79633\n",
      "44800/44800 [==============================] - 74s 2ms/sample - loss: 0.2645 - val_loss: 0.8242\n",
      "Epoch 25/50\n",
      "44672/44800 [============================>.] - ETA: 0s - loss: 0.2495\n",
      "Epoch 00025: val_loss did not improve from 0.79633\n",
      "44800/44800 [==============================] - 75s 2ms/sample - loss: 0.2495 - val_loss: 0.8267\n",
      "Epoch 26/50\n",
      "44672/44800 [============================>.] - ETA: 0s - loss: 0.2346\n",
      "Epoch 00026: val_loss did not improve from 0.79633\n",
      "44800/44800 [==============================] - 74s 2ms/sample - loss: 0.2346 - val_loss: 0.8312\n",
      "Epoch 27/50\n",
      "44672/44800 [============================>.] - ETA: 0s - loss: 0.2208\n",
      "Epoch 00027: val_loss did not improve from 0.79633\n",
      "44800/44800 [==============================] - 74s 2ms/sample - loss: 0.2208 - val_loss: 0.8337\n",
      "Epoch 28/50\n",
      "44672/44800 [============================>.] - ETA: 0s - loss: 0.2089\n",
      "Epoch 00028: val_loss did not improve from 0.79633\n",
      "44800/44800 [==============================] - 74s 2ms/sample - loss: 0.2089 - val_loss: 0.8389\n",
      "Epoch 29/50\n",
      "44672/44800 [============================>.] - ETA: 0s - loss: 0.1968\n",
      "Epoch 00029: val_loss did not improve from 0.79633\n",
      "44800/44800 [==============================] - 75s 2ms/sample - loss: 0.1970 - val_loss: 0.8416\n",
      "Epoch 30/50\n",
      "44672/44800 [============================>.] - ETA: 0s - loss: 0.1852\n",
      "Epoch 00030: val_loss did not improve from 0.79633\n",
      "44800/44800 [==============================] - 76s 2ms/sample - loss: 0.1853 - val_loss: 0.8460\n",
      "Epoch 31/50\n",
      "44672/44800 [============================>.] - ETA: 0s - loss: 0.1752\n",
      "Epoch 00031: val_loss did not improve from 0.79633\n",
      "44800/44800 [==============================] - 75s 2ms/sample - loss: 0.1753 - val_loss: 0.8477\n",
      "Epoch 32/50\n",
      "44672/44800 [============================>.] - ETA: 0s - loss: 0.1651\n",
      "Epoch 00032: val_loss did not improve from 0.79633\n",
      "44800/44800 [==============================] - 75s 2ms/sample - loss: 0.1651 - val_loss: 0.8575\n",
      "Epoch 33/50\n",
      "44672/44800 [============================>.] - ETA: 0s - loss: 0.1560\n",
      "Epoch 00033: val_loss did not improve from 0.79633\n",
      "44800/44800 [==============================] - 74s 2ms/sample - loss: 0.1563 - val_loss: 0.8595\n",
      "Epoch 34/50\n",
      "44672/44800 [============================>.] - ETA: 0s - loss: 0.1479\n",
      "Epoch 00034: val_loss did not improve from 0.79633\n",
      "44800/44800 [==============================] - 75s 2ms/sample - loss: 0.1480 - val_loss: 0.8635\n",
      "Epoch 35/50\n",
      "44672/44800 [============================>.] - ETA: 0s - loss: 0.1394\n",
      "Epoch 00035: val_loss did not improve from 0.79633\n",
      "44800/44800 [==============================] - 75s 2ms/sample - loss: 0.1395 - val_loss: 0.8681\n",
      "Epoch 36/50\n",
      "44672/44800 [============================>.] - ETA: 0s - loss: 0.1324\n",
      "Epoch 00036: val_loss did not improve from 0.79633\n",
      "44800/44800 [==============================] - 75s 2ms/sample - loss: 0.1324 - val_loss: 0.8717\n",
      "Epoch 37/50\n",
      "44672/44800 [============================>.] - ETA: 0s - loss: 0.1256\n",
      "Epoch 00037: val_loss did not improve from 0.79633\n",
      "44800/44800 [==============================] - 76s 2ms/sample - loss: 0.1256 - val_loss: 0.8751\n",
      "Epoch 38/50\n",
      "44672/44800 [============================>.] - ETA: 0s - loss: 0.1193\n",
      "Epoch 00038: val_loss did not improve from 0.79633\n",
      "44800/44800 [==============================] - 77s 2ms/sample - loss: 0.1192 - val_loss: 0.8815\n",
      "Epoch 39/50\n",
      "44672/44800 [============================>.] - ETA: 0s - loss: 0.1130\n",
      "Epoch 00039: val_loss did not improve from 0.79633\n",
      "44800/44800 [==============================] - 77s 2ms/sample - loss: 0.1130 - val_loss: 0.8866\n",
      "Epoch 40/50\n",
      "44672/44800 [============================>.] - ETA: 0s - loss: 0.1072\n",
      "Epoch 00040: val_loss did not improve from 0.79633\n",
      "44800/44800 [==============================] - 76s 2ms/sample - loss: 0.1072 - val_loss: 0.8894\n",
      "Epoch 41/50\n",
      "44672/44800 [============================>.] - ETA: 0s - loss: 0.1013\n",
      "Epoch 00041: val_loss did not improve from 0.79633\n",
      "44800/44800 [==============================] - 74s 2ms/sample - loss: 0.1013 - val_loss: 0.9000\n",
      "Epoch 42/50\n",
      "44672/44800 [============================>.] - ETA: 0s - loss: 0.0959\n",
      "Epoch 00042: val_loss did not improve from 0.79633\n",
      "44800/44800 [==============================] - 74s 2ms/sample - loss: 0.0960 - val_loss: 0.8979\n",
      "Epoch 43/50\n",
      "44672/44800 [============================>.] - ETA: 0s - loss: 0.0914\n",
      "Epoch 00043: val_loss did not improve from 0.79633\n",
      "44800/44800 [==============================] - 75s 2ms/sample - loss: 0.0913 - val_loss: 0.9065\n",
      "Epoch 44/50\n",
      "44672/44800 [============================>.] - ETA: 0s - loss: 0.0872\n",
      "Epoch 00044: val_loss did not improve from 0.79633\n",
      "44800/44800 [==============================] - 75s 2ms/sample - loss: 0.0872 - val_loss: 0.9111\n",
      "Epoch 45/50\n",
      "44672/44800 [============================>.] - ETA: 0s - loss: 0.0834\n",
      "Epoch 00045: val_loss did not improve from 0.79633\n",
      "44800/44800 [==============================] - 75s 2ms/sample - loss: 0.0834 - val_loss: 0.9178\n",
      "Epoch 46/50\n",
      "44672/44800 [============================>.] - ETA: 0s - loss: 0.0792\n",
      "Epoch 00046: val_loss did not improve from 0.79633\n",
      "44800/44800 [==============================] - 76s 2ms/sample - loss: 0.0793 - val_loss: 0.9184\n",
      "Epoch 47/50\n",
      "44672/44800 [============================>.] - ETA: 0s - loss: 0.0751\n",
      "Epoch 00047: val_loss did not improve from 0.79633\n",
      "44800/44800 [==============================] - 75s 2ms/sample - loss: 0.0751 - val_loss: 0.9211\n",
      "Epoch 48/50\n",
      "44672/44800 [============================>.] - ETA: 0s - loss: 0.0711\n",
      "Epoch 00048: val_loss did not improve from 0.79633\n",
      "44800/44800 [==============================] - 76s 2ms/sample - loss: 0.0712 - val_loss: 0.9270\n",
      "Epoch 49/50\n",
      "44672/44800 [============================>.] - ETA: 0s - loss: 0.0683\n",
      "Epoch 00049: val_loss did not improve from 0.79633\n",
      "44800/44800 [==============================] - 75s 2ms/sample - loss: 0.0683 - val_loss: 0.9304\n",
      "Epoch 50/50\n",
      "44672/44800 [============================>.] - ETA: 0s - loss: 0.0655\n",
      "Epoch 00050: val_loss did not improve from 0.79633\n",
      "44800/44800 [==============================] - 75s 2ms/sample - loss: 0.0655 - val_loss: 0.9364\n"
     ]
    }
   ],
   "source": [
    "# train model\n",
    "history = model.fit(trainX, trainY.reshape(trainY.shape[0], trainY.shape[1], 1),\n",
    "                    epochs=50, batch_size=128, validation_split = 0.2,callbacks=callbacks, verbose=1)"
   ]
  },
  {
   "cell_type": "markdown",
   "metadata": {
    "colab_type": "text",
    "id": "lPrYZMXOrpfu"
   },
   "source": [
    "Let’s compare the training loss and the validation loss."
   ]
  },
  {
   "cell_type": "code",
   "execution_count": 0,
   "metadata": {
    "colab": {
     "base_uri": "https://localhost:8080/",
     "height": 265
    },
    "colab_type": "code",
    "id": "EZzRP4nzqPsK",
    "outputId": "c32aec2b-360d-4641-db6f-bf1c9c01105d"
   },
   "outputs": [
    {
     "data": {
      "image/png": "[encoded data removed]",
      "text/plain": [
       "<Figure size 432x288 with 1 Axes>"
      ]
     },
     "metadata": {
      "tags": []
     },
     "output_type": "display_data"
    }
   ],
   "source": [
    "plt.plot(history.history['loss'])\n",
    "plt.plot(history.history['val_loss'])\n",
    "plt.legend(['train','validation'])\n",
    "plt.show()"
   ]
  },
  {
   "cell_type": "markdown",
   "metadata": {},
   "source": [
    "## Test Model"
   ]
  },
  {
   "cell_type": "markdown",
   "metadata": {
    "colab_type": "text",
    "id": "P84pEoG7rhk2"
   },
   "source": [
    "Finally, we can load the saved model and make predictions on the unseen data – testX."
   ]
  },
  {
   "cell_type": "code",
   "execution_count": 0,
   "metadata": {
    "colab": {},
    "colab_type": "code",
    "id": "9uDK5VJGXNgT"
   },
   "outputs": [],
   "source": [
    "# get 10 random ids of test samples\n",
    "idx = random.randint(testX.shape[0], size=10)\n",
    "# get 10 encoded english test samples\n",
    "encoded_english_actual = testX[idx,:]\n",
    "# get 10 actual english sentences \n",
    "eng_actual = test[\"english_sentances\"].values\n",
    "eng_actual = eng_actual[idx]\n",
    "# get 10 actual telugu sentences\n",
    "actual = test[\"telugu_sentances\"].values\n",
    "actual = actual[idx]"
   ]
  },
  {
   "cell_type": "code",
   "execution_count": 0,
   "metadata": {
    "colab": {},
    "colab_type": "code",
    "id": "GFwNVeL4qX9c"
   },
   "outputs": [],
   "source": [
    "# load model weights\n",
    "# model.load_weights(filepath)\n",
    "# predict english sentence to telugu sentence\n",
    "preds = model.predict_classes(encoded_english_actual.reshape((encoded_english_actual.shape[0],encoded_english_actual.shape[1])))"
   ]
  },
  {
   "cell_type": "markdown",
   "metadata": {
    "colab_type": "text",
    "id": "LOZIMzJGrfcG"
   },
   "source": [
    "These predictions are sequences of integers. We need to convert these integers to their corresponding words. Let’s define a function to do this:"
   ]
  },
  {
   "cell_type": "code",
   "execution_count": 0,
   "metadata": {
    "colab": {},
    "colab_type": "code",
    "id": "5CnN9MShqe7c"
   },
   "outputs": [],
   "source": [
    "def get_word(n, tokenizer):\n",
    "    for word, index in tokenizer.word_index.items():\n",
    "        if index == n:\n",
    "            return word\n",
    "    return None"
   ]
  },
  {
   "cell_type": "markdown",
   "metadata": {
    "colab_type": "text",
    "id": "cXve26ZprcOO"
   },
   "source": [
    "Convert predictions into text (Telugu):"
   ]
  },
  {
   "cell_type": "code",
   "execution_count": 0,
   "metadata": {
    "colab": {},
    "colab_type": "code",
    "id": "mB9J6bTCqk4k"
   },
   "outputs": [],
   "source": [
    "preds_text = []\n",
    "for i in preds:\n",
    "    temp = []\n",
    "    for j in range(len(i)):\n",
    "        t = get_word(i[j], tel_tokenizer)\n",
    "        if j > 0:\n",
    "            if (t == get_word(i[j-1], tel_tokenizer)) or (t == None):\n",
    "                temp.append('')\n",
    "            else:\n",
    "                temp.append(t)\n",
    "        else:\n",
    "            if(t == None):\n",
    "                temp.append('')\n",
    "            else:\n",
    "                temp.append(t) \n",
    "\n",
    "    preds_text.append(' '.join(temp))"
   ]
  },
  {
   "cell_type": "markdown",
   "metadata": {
    "colab_type": "text",
    "id": "2W6z-8nErZyu"
   },
   "source": [
    "Let’s create a dataframe with original english and telugu sentances and translated telugu sentences:"
   ]
  },
  {
   "cell_type": "code",
   "execution_count": 0,
   "metadata": {
    "colab": {},
    "colab_type": "code",
    "id": "lt6IjgL9qokM"
   },
   "outputs": [],
   "source": [
    "pred_df = pd.DataFrame({'english_actual':eng_actual, 'telugu_actual' : actual, 'telugu_predicted' : preds_text})"
   ]
  },
  {
   "cell_type": "code",
   "execution_count": 0,
   "metadata": {
    "colab": {
     "base_uri": "https://localhost:8080/",
     "height": 359
    },
    "colab_type": "code",
    "id": "3VApyB40qr5k",
    "outputId": "ba3c4297-ec1e-438b-a8f8-0e92463d4c1c"
   },
   "outputs": [
    {
     "data": {
      "text/html": [
       "<div>\n",
       "<style scoped>\n",
       "    .dataframe tbody tr th:only-of-type {\n",
       "        vertical-align: middle;\n",
       "    }\n",
       "\n",
       "    .dataframe tbody tr th {\n",
       "        vertical-align: top;\n",
       "    }\n",
       "\n",
       "    .dataframe thead th {\n",
       "        text-align: right;\n",
       "    }\n",
       "</style>\n",
       "<table border=\"1\" class=\"dataframe\">\n",
       "  <thead>\n",
       "    <tr style=\"text-align: right;\">\n",
       "      <th></th>\n",
       "      <th>english_actual</th>\n",
       "      <th>telugu_actual</th>\n",
       "      <th>telugu_predicted</th>\n",
       "    </tr>\n",
       "  </thead>\n",
       "  <tbody>\n",
       "    <tr>\n",
       "      <th>0</th>\n",
       "      <td>i like to do that</td>\n",
       "      <td>నేను అలా చేయాలనుకుంటున్నాను</td>\n",
       "      <td>నేను అలా చేయాలనుకుంటున్నాను                   ...</td>\n",
       "    </tr>\n",
       "    <tr>\n",
       "      <th>1</th>\n",
       "      <td>she spent some time in boston</td>\n",
       "      <td>ఆమె బోస్టన్‌లో కొంత సమయం గడిపింది</td>\n",
       "      <td>ఆమె నాకు కొంత సమయం</td>\n",
       "    </tr>\n",
       "    <tr>\n",
       "      <th>2</th>\n",
       "      <td>tom told me to ask everybody</td>\n",
       "      <td>అందరినీ అడగమని టామ్ చెప్పాడు</td>\n",
       "      <td>టామ్ వారిని చేయమని</td>\n",
       "    </tr>\n",
       "    <tr>\n",
       "      <th>3</th>\n",
       "      <td>i know where you can hide</td>\n",
       "      <td>మీరు ఎక్కడ దాచవచ్చో నాకు తెలుసు</td>\n",
       "      <td>మీరు ఎక్కడ  నాకు తెలుసు</td>\n",
       "    </tr>\n",
       "    <tr>\n",
       "      <th>4</th>\n",
       "      <td>cookie is under the table</td>\n",
       "      <td>కుకీ టేబుల్ కింద ఉంది</td>\n",
       "      <td>ఎందుకు టేబుల్ ఉంది</td>\n",
       "    </tr>\n",
       "    <tr>\n",
       "      <th>5</th>\n",
       "      <td>i offered to fix toms flat tire</td>\n",
       "      <td>నేను టామ్ యొక్క ఫ్లాట్ టైర్ను పరిష్కరించడానికి...</td>\n",
       "      <td>టామ్ పదాలు తీసుకోండి విశ్రాంతి ఇచ్చాను        ...</td>\n",
       "    </tr>\n",
       "    <tr>\n",
       "      <th>6</th>\n",
       "      <td>everybody was there except for tom</td>\n",
       "      <td>టామ్ తప్ప అందరూ అక్కడ ఉన్నారు</td>\n",
       "      <td>టామ్ తప్ప అందరూ అక్కడ</td>\n",
       "    </tr>\n",
       "    <tr>\n",
       "      <th>7</th>\n",
       "      <td>these fireworks are spectacular</td>\n",
       "      <td>ఈ బాణసంచా అద్భుతమైనవి</td>\n",
       "      <td>ఈ చివరి వెచ్చగా</td>\n",
       "    </tr>\n",
       "    <tr>\n",
       "      <th>8</th>\n",
       "      <td>you have my word</td>\n",
       "      <td>మీకు నా మాట ఉంది</td>\n",
       "      <td>మీకు నా అనుమతి ఉంది</td>\n",
       "    </tr>\n",
       "    <tr>\n",
       "      <th>9</th>\n",
       "      <td>the committee elected him chairperson</td>\n",
       "      <td>కమిటీ ఆయనను చైర్‌పర్సన్‌గా ఎన్నుకుంది</td>\n",
       "      <td>ఈ అతనికి  ఇవ్వండి చేసింది</td>\n",
       "    </tr>\n",
       "  </tbody>\n",
       "</table>\n",
       "</div>"
      ],
      "text/plain": [
       "                          english_actual  ...                                   telugu_predicted\n",
       "0                      i like to do that  ...  నేను అలా చేయాలనుకుంటున్నాను                   ...\n",
       "1          she spent some time in boston  ...           ఆమె నాకు కొంత సమయం                      \n",
       "2           tom told me to ask everybody  ...          టామ్ వారిని చేయమని                       \n",
       "3              i know where you can hide  ...       మీరు ఎక్కడ  నాకు తెలుసు                     \n",
       "4              cookie is under the table  ...          ఎందుకు టేబుల్ ఉంది                       \n",
       "5        i offered to fix toms flat tire  ...  టామ్ పదాలు తీసుకోండి విశ్రాంతి ఇచ్చాను        ...\n",
       "6     everybody was there except for tom  ...        టామ్ తప్ప అందరూ అక్కడ                      \n",
       "7        these fireworks are spectacular  ...             ఈ చివరి వెచ్చగా                       \n",
       "8                       you have my word  ...          మీకు నా అనుమతి ఉంది                      \n",
       "9  the committee elected him chairperson  ...     ఈ అతనికి  ఇవ్వండి చేసింది                     \n",
       "\n",
       "[10 rows x 3 columns]"
      ]
     },
     "execution_count": 40,
     "metadata": {
      "tags": []
     },
     "output_type": "execute_result"
    }
   ],
   "source": [
    "# print 10 rows\n",
    "pred_df.head(10)"
   ]
  },
  {
   "cell_type": "code",
   "execution_count": 0,
   "metadata": {
    "colab": {},
    "colab_type": "code",
    "id": "MIU-GmMHq3rV"
   },
   "outputs": [],
   "source": []
  }
 ],
 "metadata": {
  "accelerator": "GPU",
  "colab": {
   "collapsed_sections": [],
   "machine_shape": "hm",
   "name": "English_To_Telugu_RepeatVector.ipynb",
   "provenance": []
  },
  "kernelspec": {
   "display_name": "Python 3",
   "language": "python",
   "name": "python3"
  },
  "language_info": {
   "codemirror_mode": {
    "name": "ipython",
    "version": 3
   },
   "file_extension": ".py",
   "mimetype": "text/x-python",
   "name": "python",
   "nbconvert_exporter": "python",
   "pygments_lexer": "ipython3",
   "version": "3.7.0"
  }
 },
 "nbformat": 4,
 "nbformat_minor": 1
}
